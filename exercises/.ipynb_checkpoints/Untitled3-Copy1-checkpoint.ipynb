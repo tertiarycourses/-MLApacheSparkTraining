{
 "cells": [
  {
   "cell_type": "code",
   "execution_count": 1,
   "metadata": {},
   "outputs": [],
   "source": [
    "# Start a Spark Session\n",
    "from pyspark.sql import SparkSession\n",
    "spark = SparkSession.builder.appName('abc').getOrCreate()"
   ]
  },
  {
   "cell_type": "code",
   "execution_count": 2,
   "metadata": {},
   "outputs": [],
   "source": [
    "from pyspark.ml.linalg import Vectors\n",
    "from pyspark.ml.feature import VectorAssembler"
   ]
  },
  {
   "cell_type": "code",
   "execution_count": 3,
   "metadata": {},
   "outputs": [],
   "source": [
    "iris = spark.read.csv('data/iris.csv', header=True,inferSchema=True)"
   ]
  },
  {
   "cell_type": "code",
   "execution_count": 4,
   "metadata": {},
   "outputs": [],
   "source": [
    "v = VectorAssembler(inputCols=['sepal_length','sepal_width','petal_length','petal_width'],outputCol='features')"
   ]
  },
  {
   "cell_type": "code",
   "execution_count": 5,
   "metadata": {},
   "outputs": [],
   "source": [
    "iris2= v.transform(iris)"
   ]
  },
  {
   "cell_type": "code",
   "execution_count": 6,
   "metadata": {},
   "outputs": [
    {
     "name": "stdout",
     "output_type": "stream",
     "text": [
      "+------------+-----------+------------+-----------+-----------+-----------------+\n",
      "|sepal_length|sepal_width|petal_length|petal_width|    species|         features|\n",
      "+------------+-----------+------------+-----------+-----------+-----------------+\n",
      "|         5.1|        3.5|         1.4|        0.2|Iris-setosa|[5.1,3.5,1.4,0.2]|\n",
      "|         4.9|        3.0|         1.4|        0.2|Iris-setosa|[4.9,3.0,1.4,0.2]|\n",
      "|         4.7|        3.2|         1.3|        0.2|Iris-setosa|[4.7,3.2,1.3,0.2]|\n",
      "|         4.6|        3.1|         1.5|        0.2|Iris-setosa|[4.6,3.1,1.5,0.2]|\n",
      "|         5.0|        3.6|         1.4|        0.2|Iris-setosa|[5.0,3.6,1.4,0.2]|\n",
      "|         5.4|        3.9|         1.7|        0.4|Iris-setosa|[5.4,3.9,1.7,0.4]|\n",
      "|         4.6|        3.4|         1.4|        0.3|Iris-setosa|[4.6,3.4,1.4,0.3]|\n",
      "|         5.0|        3.4|         1.5|        0.2|Iris-setosa|[5.0,3.4,1.5,0.2]|\n",
      "|         4.4|        2.9|         1.4|        0.2|Iris-setosa|[4.4,2.9,1.4,0.2]|\n",
      "|         4.9|        3.1|         1.5|        0.1|Iris-setosa|[4.9,3.1,1.5,0.1]|\n",
      "+------------+-----------+------------+-----------+-----------+-----------------+\n",
      "only showing top 10 rows\n",
      "\n"
     ]
    }
   ],
   "source": [
    "iris2.show(10)"
   ]
  },
  {
   "cell_type": "code",
   "execution_count": 7,
   "metadata": {},
   "outputs": [],
   "source": [
    "from pyspark.ml.feature import StringIndexer"
   ]
  },
  {
   "cell_type": "code",
   "execution_count": 11,
   "metadata": {},
   "outputs": [],
   "source": [
    "indexer = StringIndexer(inputCol='species',outputCol='label')"
   ]
  },
  {
   "cell_type": "code",
   "execution_count": 12,
   "metadata": {},
   "outputs": [],
   "source": [
    "iris3 = indexer.fit(iris2).transform(iris2)"
   ]
  },
  {
   "cell_type": "code",
   "execution_count": 15,
   "metadata": {},
   "outputs": [
    {
     "name": "stdout",
     "output_type": "stream",
     "text": [
      "+------------+-----------+------------+-----------+---------------+-----------------+-----+\n",
      "|sepal_length|sepal_width|petal_length|petal_width|        species|         features|label|\n",
      "+------------+-----------+------------+-----------+---------------+-----------------+-----+\n",
      "|         5.1|        3.5|         1.4|        0.2|    Iris-setosa|[5.1,3.5,1.4,0.2]|  0.0|\n",
      "|         4.9|        3.0|         1.4|        0.2|    Iris-setosa|[4.9,3.0,1.4,0.2]|  0.0|\n",
      "|         4.7|        3.2|         1.3|        0.2|    Iris-setosa|[4.7,3.2,1.3,0.2]|  0.0|\n",
      "|         4.6|        3.1|         1.5|        0.2|    Iris-setosa|[4.6,3.1,1.5,0.2]|  0.0|\n",
      "|         5.0|        3.6|         1.4|        0.2|    Iris-setosa|[5.0,3.6,1.4,0.2]|  0.0|\n",
      "|         5.4|        3.9|         1.7|        0.4|    Iris-setosa|[5.4,3.9,1.7,0.4]|  0.0|\n",
      "|         4.6|        3.4|         1.4|        0.3|    Iris-setosa|[4.6,3.4,1.4,0.3]|  0.0|\n",
      "|         5.0|        3.4|         1.5|        0.2|    Iris-setosa|[5.0,3.4,1.5,0.2]|  0.0|\n",
      "|         4.4|        2.9|         1.4|        0.2|    Iris-setosa|[4.4,2.9,1.4,0.2]|  0.0|\n",
      "|         4.9|        3.1|         1.5|        0.1|    Iris-setosa|[4.9,3.1,1.5,0.1]|  0.0|\n",
      "|         5.4|        3.7|         1.5|        0.2|    Iris-setosa|[5.4,3.7,1.5,0.2]|  0.0|\n",
      "|         4.8|        3.4|         1.6|        0.2|    Iris-setosa|[4.8,3.4,1.6,0.2]|  0.0|\n",
      "|         4.8|        3.0|         1.4|        0.1|    Iris-setosa|[4.8,3.0,1.4,0.1]|  0.0|\n",
      "|         4.3|        3.0|         1.1|        0.1|    Iris-setosa|[4.3,3.0,1.1,0.1]|  0.0|\n",
      "|         5.8|        4.0|         1.2|        0.2|    Iris-setosa|[5.8,4.0,1.2,0.2]|  0.0|\n",
      "|         5.7|        4.4|         1.5|        0.4|    Iris-setosa|[5.7,4.4,1.5,0.4]|  0.0|\n",
      "|         5.4|        3.9|         1.3|        0.4|    Iris-setosa|[5.4,3.9,1.3,0.4]|  0.0|\n",
      "|         5.1|        3.5|         1.4|        0.3|    Iris-setosa|[5.1,3.5,1.4,0.3]|  0.0|\n",
      "|         5.7|        3.8|         1.7|        0.3|    Iris-setosa|[5.7,3.8,1.7,0.3]|  0.0|\n",
      "|         5.1|        3.8|         1.5|        0.3|    Iris-setosa|[5.1,3.8,1.5,0.3]|  0.0|\n",
      "|         5.4|        3.4|         1.7|        0.2|    Iris-setosa|[5.4,3.4,1.7,0.2]|  0.0|\n",
      "|         5.1|        3.7|         1.5|        0.4|    Iris-setosa|[5.1,3.7,1.5,0.4]|  0.0|\n",
      "|         4.6|        3.6|         1.0|        0.2|    Iris-setosa|[4.6,3.6,1.0,0.2]|  0.0|\n",
      "|         5.1|        3.3|         1.7|        0.5|    Iris-setosa|[5.1,3.3,1.7,0.5]|  0.0|\n",
      "|         4.8|        3.4|         1.9|        0.2|    Iris-setosa|[4.8,3.4,1.9,0.2]|  0.0|\n",
      "|         5.0|        3.0|         1.6|        0.2|    Iris-setosa|[5.0,3.0,1.6,0.2]|  0.0|\n",
      "|         5.0|        3.4|         1.6|        0.4|    Iris-setosa|[5.0,3.4,1.6,0.4]|  0.0|\n",
      "|         5.2|        3.5|         1.5|        0.2|    Iris-setosa|[5.2,3.5,1.5,0.2]|  0.0|\n",
      "|         5.2|        3.4|         1.4|        0.2|    Iris-setosa|[5.2,3.4,1.4,0.2]|  0.0|\n",
      "|         4.7|        3.2|         1.6|        0.2|    Iris-setosa|[4.7,3.2,1.6,0.2]|  0.0|\n",
      "|         4.8|        3.1|         1.6|        0.2|    Iris-setosa|[4.8,3.1,1.6,0.2]|  0.0|\n",
      "|         5.4|        3.4|         1.5|        0.4|    Iris-setosa|[5.4,3.4,1.5,0.4]|  0.0|\n",
      "|         5.2|        4.1|         1.5|        0.1|    Iris-setosa|[5.2,4.1,1.5,0.1]|  0.0|\n",
      "|         5.5|        4.2|         1.4|        0.2|    Iris-setosa|[5.5,4.2,1.4,0.2]|  0.0|\n",
      "|         4.9|        3.1|         1.5|        0.1|    Iris-setosa|[4.9,3.1,1.5,0.1]|  0.0|\n",
      "|         5.0|        3.2|         1.2|        0.2|    Iris-setosa|[5.0,3.2,1.2,0.2]|  0.0|\n",
      "|         5.5|        3.5|         1.3|        0.2|    Iris-setosa|[5.5,3.5,1.3,0.2]|  0.0|\n",
      "|         4.9|        3.1|         1.5|        0.1|    Iris-setosa|[4.9,3.1,1.5,0.1]|  0.0|\n",
      "|         4.4|        3.0|         1.3|        0.2|    Iris-setosa|[4.4,3.0,1.3,0.2]|  0.0|\n",
      "|         5.1|        3.4|         1.5|        0.2|    Iris-setosa|[5.1,3.4,1.5,0.2]|  0.0|\n",
      "|         5.0|        3.5|         1.3|        0.3|    Iris-setosa|[5.0,3.5,1.3,0.3]|  0.0|\n",
      "|         4.5|        2.3|         1.3|        0.3|    Iris-setosa|[4.5,2.3,1.3,0.3]|  0.0|\n",
      "|         4.4|        3.2|         1.3|        0.2|    Iris-setosa|[4.4,3.2,1.3,0.2]|  0.0|\n",
      "|         5.0|        3.5|         1.6|        0.6|    Iris-setosa|[5.0,3.5,1.6,0.6]|  0.0|\n",
      "|         5.1|        3.8|         1.9|        0.4|    Iris-setosa|[5.1,3.8,1.9,0.4]|  0.0|\n",
      "|         4.8|        3.0|         1.4|        0.3|    Iris-setosa|[4.8,3.0,1.4,0.3]|  0.0|\n",
      "|         5.1|        3.8|         1.6|        0.2|    Iris-setosa|[5.1,3.8,1.6,0.2]|  0.0|\n",
      "|         4.6|        3.2|         1.4|        0.2|    Iris-setosa|[4.6,3.2,1.4,0.2]|  0.0|\n",
      "|         5.3|        3.7|         1.5|        0.2|    Iris-setosa|[5.3,3.7,1.5,0.2]|  0.0|\n",
      "|         5.0|        3.3|         1.4|        0.2|    Iris-setosa|[5.0,3.3,1.4,0.2]|  0.0|\n",
      "|         7.0|        3.2|         4.7|        1.4|Iris-versicolor|[7.0,3.2,4.7,1.4]|  1.0|\n",
      "|         6.4|        3.2|         4.5|        1.5|Iris-versicolor|[6.4,3.2,4.5,1.5]|  1.0|\n",
      "|         6.9|        3.1|         4.9|        1.5|Iris-versicolor|[6.9,3.1,4.9,1.5]|  1.0|\n",
      "|         5.5|        2.3|         4.0|        1.3|Iris-versicolor|[5.5,2.3,4.0,1.3]|  1.0|\n",
      "|         6.5|        2.8|         4.6|        1.5|Iris-versicolor|[6.5,2.8,4.6,1.5]|  1.0|\n",
      "|         5.7|        2.8|         4.5|        1.3|Iris-versicolor|[5.7,2.8,4.5,1.3]|  1.0|\n",
      "|         6.3|        3.3|         4.7|        1.6|Iris-versicolor|[6.3,3.3,4.7,1.6]|  1.0|\n",
      "|         4.9|        2.4|         3.3|        1.0|Iris-versicolor|[4.9,2.4,3.3,1.0]|  1.0|\n",
      "|         6.6|        2.9|         4.6|        1.3|Iris-versicolor|[6.6,2.9,4.6,1.3]|  1.0|\n",
      "|         5.2|        2.7|         3.9|        1.4|Iris-versicolor|[5.2,2.7,3.9,1.4]|  1.0|\n",
      "|         5.0|        2.0|         3.5|        1.0|Iris-versicolor|[5.0,2.0,3.5,1.0]|  1.0|\n",
      "|         5.9|        3.0|         4.2|        1.5|Iris-versicolor|[5.9,3.0,4.2,1.5]|  1.0|\n",
      "|         6.0|        2.2|         4.0|        1.0|Iris-versicolor|[6.0,2.2,4.0,1.0]|  1.0|\n",
      "|         6.1|        2.9|         4.7|        1.4|Iris-versicolor|[6.1,2.9,4.7,1.4]|  1.0|\n",
      "|         5.6|        2.9|         3.6|        1.3|Iris-versicolor|[5.6,2.9,3.6,1.3]|  1.0|\n",
      "|         6.7|        3.1|         4.4|        1.4|Iris-versicolor|[6.7,3.1,4.4,1.4]|  1.0|\n",
      "|         5.6|        3.0|         4.5|        1.5|Iris-versicolor|[5.6,3.0,4.5,1.5]|  1.0|\n",
      "|         5.8|        2.7|         4.1|        1.0|Iris-versicolor|[5.8,2.7,4.1,1.0]|  1.0|\n",
      "|         6.2|        2.2|         4.5|        1.5|Iris-versicolor|[6.2,2.2,4.5,1.5]|  1.0|\n",
      "|         5.6|        2.5|         3.9|        1.1|Iris-versicolor|[5.6,2.5,3.9,1.1]|  1.0|\n",
      "|         5.9|        3.2|         4.8|        1.8|Iris-versicolor|[5.9,3.2,4.8,1.8]|  1.0|\n",
      "|         6.1|        2.8|         4.0|        1.3|Iris-versicolor|[6.1,2.8,4.0,1.3]|  1.0|\n",
      "|         6.3|        2.5|         4.9|        1.5|Iris-versicolor|[6.3,2.5,4.9,1.5]|  1.0|\n",
      "|         6.1|        2.8|         4.7|        1.2|Iris-versicolor|[6.1,2.8,4.7,1.2]|  1.0|\n",
      "|         6.4|        2.9|         4.3|        1.3|Iris-versicolor|[6.4,2.9,4.3,1.3]|  1.0|\n",
      "|         6.6|        3.0|         4.4|        1.4|Iris-versicolor|[6.6,3.0,4.4,1.4]|  1.0|\n",
      "|         6.8|        2.8|         4.8|        1.4|Iris-versicolor|[6.8,2.8,4.8,1.4]|  1.0|\n",
      "|         6.7|        3.0|         5.0|        1.7|Iris-versicolor|[6.7,3.0,5.0,1.7]|  1.0|\n",
      "|         6.0|        2.9|         4.5|        1.5|Iris-versicolor|[6.0,2.9,4.5,1.5]|  1.0|\n",
      "|         5.7|        2.6|         3.5|        1.0|Iris-versicolor|[5.7,2.6,3.5,1.0]|  1.0|\n",
      "|         5.5|        2.4|         3.8|        1.1|Iris-versicolor|[5.5,2.4,3.8,1.1]|  1.0|\n",
      "|         5.5|        2.4|         3.7|        1.0|Iris-versicolor|[5.5,2.4,3.7,1.0]|  1.0|\n",
      "|         5.8|        2.7|         3.9|        1.2|Iris-versicolor|[5.8,2.7,3.9,1.2]|  1.0|\n",
      "|         6.0|        2.7|         5.1|        1.6|Iris-versicolor|[6.0,2.7,5.1,1.6]|  1.0|\n",
      "|         5.4|        3.0|         4.5|        1.5|Iris-versicolor|[5.4,3.0,4.5,1.5]|  1.0|\n",
      "|         6.0|        3.4|         4.5|        1.6|Iris-versicolor|[6.0,3.4,4.5,1.6]|  1.0|\n",
      "|         6.7|        3.1|         4.7|        1.5|Iris-versicolor|[6.7,3.1,4.7,1.5]|  1.0|\n",
      "|         6.3|        2.3|         4.4|        1.3|Iris-versicolor|[6.3,2.3,4.4,1.3]|  1.0|\n",
      "|         5.6|        3.0|         4.1|        1.3|Iris-versicolor|[5.6,3.0,4.1,1.3]|  1.0|\n",
      "|         5.5|        2.5|         4.0|        1.3|Iris-versicolor|[5.5,2.5,4.0,1.3]|  1.0|\n",
      "|         5.5|        2.6|         4.4|        1.2|Iris-versicolor|[5.5,2.6,4.4,1.2]|  1.0|\n",
      "|         6.1|        3.0|         4.6|        1.4|Iris-versicolor|[6.1,3.0,4.6,1.4]|  1.0|\n",
      "|         5.8|        2.6|         4.0|        1.2|Iris-versicolor|[5.8,2.6,4.0,1.2]|  1.0|\n",
      "|         5.0|        2.3|         3.3|        1.0|Iris-versicolor|[5.0,2.3,3.3,1.0]|  1.0|\n",
      "|         5.6|        2.7|         4.2|        1.3|Iris-versicolor|[5.6,2.7,4.2,1.3]|  1.0|\n",
      "|         5.7|        3.0|         4.2|        1.2|Iris-versicolor|[5.7,3.0,4.2,1.2]|  1.0|\n",
      "|         5.7|        2.9|         4.2|        1.3|Iris-versicolor|[5.7,2.9,4.2,1.3]|  1.0|\n",
      "|         6.2|        2.9|         4.3|        1.3|Iris-versicolor|[6.2,2.9,4.3,1.3]|  1.0|\n",
      "|         5.1|        2.5|         3.0|        1.1|Iris-versicolor|[5.1,2.5,3.0,1.1]|  1.0|\n",
      "|         5.7|        2.8|         4.1|        1.3|Iris-versicolor|[5.7,2.8,4.1,1.3]|  1.0|\n",
      "|         6.3|        3.3|         6.0|        2.5| Iris-virginica|[6.3,3.3,6.0,2.5]|  2.0|\n",
      "|         5.8|        2.7|         5.1|        1.9| Iris-virginica|[5.8,2.7,5.1,1.9]|  2.0|\n",
      "|         7.1|        3.0|         5.9|        2.1| Iris-virginica|[7.1,3.0,5.9,2.1]|  2.0|\n",
      "|         6.3|        2.9|         5.6|        1.8| Iris-virginica|[6.3,2.9,5.6,1.8]|  2.0|\n",
      "|         6.5|        3.0|         5.8|        2.2| Iris-virginica|[6.5,3.0,5.8,2.2]|  2.0|\n",
      "|         7.6|        3.0|         6.6|        2.1| Iris-virginica|[7.6,3.0,6.6,2.1]|  2.0|\n",
      "|         4.9|        2.5|         4.5|        1.7| Iris-virginica|[4.9,2.5,4.5,1.7]|  2.0|\n",
      "|         7.3|        2.9|         6.3|        1.8| Iris-virginica|[7.3,2.9,6.3,1.8]|  2.0|\n",
      "|         6.7|        2.5|         5.8|        1.8| Iris-virginica|[6.7,2.5,5.8,1.8]|  2.0|\n",
      "|         7.2|        3.6|         6.1|        2.5| Iris-virginica|[7.2,3.6,6.1,2.5]|  2.0|\n",
      "|         6.5|        3.2|         5.1|        2.0| Iris-virginica|[6.5,3.2,5.1,2.0]|  2.0|\n",
      "|         6.4|        2.7|         5.3|        1.9| Iris-virginica|[6.4,2.7,5.3,1.9]|  2.0|\n",
      "|         6.8|        3.0|         5.5|        2.1| Iris-virginica|[6.8,3.0,5.5,2.1]|  2.0|\n",
      "|         5.7|        2.5|         5.0|        2.0| Iris-virginica|[5.7,2.5,5.0,2.0]|  2.0|\n",
      "|         5.8|        2.8|         5.1|        2.4| Iris-virginica|[5.8,2.8,5.1,2.4]|  2.0|\n",
      "|         6.4|        3.2|         5.3|        2.3| Iris-virginica|[6.4,3.2,5.3,2.3]|  2.0|\n",
      "|         6.5|        3.0|         5.5|        1.8| Iris-virginica|[6.5,3.0,5.5,1.8]|  2.0|\n",
      "|         7.7|        3.8|         6.7|        2.2| Iris-virginica|[7.7,3.8,6.7,2.2]|  2.0|\n",
      "|         7.7|        2.6|         6.9|        2.3| Iris-virginica|[7.7,2.6,6.9,2.3]|  2.0|\n",
      "|         6.0|        2.2|         5.0|        1.5| Iris-virginica|[6.0,2.2,5.0,1.5]|  2.0|\n",
      "|         6.9|        3.2|         5.7|        2.3| Iris-virginica|[6.9,3.2,5.7,2.3]|  2.0|\n",
      "|         5.6|        2.8|         4.9|        2.0| Iris-virginica|[5.6,2.8,4.9,2.0]|  2.0|\n",
      "|         7.7|        2.8|         6.7|        2.0| Iris-virginica|[7.7,2.8,6.7,2.0]|  2.0|\n",
      "|         6.3|        2.7|         4.9|        1.8| Iris-virginica|[6.3,2.7,4.9,1.8]|  2.0|\n",
      "|         6.7|        3.3|         5.7|        2.1| Iris-virginica|[6.7,3.3,5.7,2.1]|  2.0|\n",
      "|         7.2|        3.2|         6.0|        1.8| Iris-virginica|[7.2,3.2,6.0,1.8]|  2.0|\n",
      "|         6.2|        2.8|         4.8|        1.8| Iris-virginica|[6.2,2.8,4.8,1.8]|  2.0|\n",
      "|         6.1|        3.0|         4.9|        1.8| Iris-virginica|[6.1,3.0,4.9,1.8]|  2.0|\n",
      "|         6.4|        2.8|         5.6|        2.1| Iris-virginica|[6.4,2.8,5.6,2.1]|  2.0|\n",
      "|         7.2|        3.0|         5.8|        1.6| Iris-virginica|[7.2,3.0,5.8,1.6]|  2.0|\n",
      "|         7.4|        2.8|         6.1|        1.9| Iris-virginica|[7.4,2.8,6.1,1.9]|  2.0|\n",
      "|         7.9|        3.8|         6.4|        2.0| Iris-virginica|[7.9,3.8,6.4,2.0]|  2.0|\n",
      "|         6.4|        2.8|         5.6|        2.2| Iris-virginica|[6.4,2.8,5.6,2.2]|  2.0|\n",
      "|         6.3|        2.8|         5.1|        1.5| Iris-virginica|[6.3,2.8,5.1,1.5]|  2.0|\n",
      "|         6.1|        2.6|         5.6|        1.4| Iris-virginica|[6.1,2.6,5.6,1.4]|  2.0|\n",
      "|         7.7|        3.0|         6.1|        2.3| Iris-virginica|[7.7,3.0,6.1,2.3]|  2.0|\n",
      "|         6.3|        3.4|         5.6|        2.4| Iris-virginica|[6.3,3.4,5.6,2.4]|  2.0|\n",
      "|         6.4|        3.1|         5.5|        1.8| Iris-virginica|[6.4,3.1,5.5,1.8]|  2.0|\n",
      "|         6.0|        3.0|         4.8|        1.8| Iris-virginica|[6.0,3.0,4.8,1.8]|  2.0|\n",
      "|         6.9|        3.1|         5.4|        2.1| Iris-virginica|[6.9,3.1,5.4,2.1]|  2.0|\n",
      "|         6.7|        3.1|         5.6|        2.4| Iris-virginica|[6.7,3.1,5.6,2.4]|  2.0|\n",
      "|         6.9|        3.1|         5.1|        2.3| Iris-virginica|[6.9,3.1,5.1,2.3]|  2.0|\n",
      "|         5.8|        2.7|         5.1|        1.9| Iris-virginica|[5.8,2.7,5.1,1.9]|  2.0|\n",
      "|         6.8|        3.2|         5.9|        2.3| Iris-virginica|[6.8,3.2,5.9,2.3]|  2.0|\n",
      "|         6.7|        3.3|         5.7|        2.5| Iris-virginica|[6.7,3.3,5.7,2.5]|  2.0|\n",
      "|         6.7|        3.0|         5.2|        2.3| Iris-virginica|[6.7,3.0,5.2,2.3]|  2.0|\n",
      "|         6.3|        2.5|         5.0|        1.9| Iris-virginica|[6.3,2.5,5.0,1.9]|  2.0|\n",
      "|         6.5|        3.0|         5.2|        2.0| Iris-virginica|[6.5,3.0,5.2,2.0]|  2.0|\n",
      "|         6.2|        3.4|         5.4|        2.3| Iris-virginica|[6.2,3.4,5.4,2.3]|  2.0|\n",
      "|         5.9|        3.0|         5.1|        1.8| Iris-virginica|[5.9,3.0,5.1,1.8]|  2.0|\n",
      "+------------+-----------+------------+-----------+---------------+-----------------+-----+\n",
      "\n"
     ]
    },
    {
     "name": "stderr",
     "output_type": "stream",
     "text": [
      "Exception ignored in: <object repr() failed>\n",
      "Traceback (most recent call last):\n",
      "  File \"/Library/Frameworks/Python.framework/Versions/3.6/lib/python3.6/site-packages/pyspark/ml/wrapper.py\", line 105, in __del__\n",
      "    SparkContext._active_spark_context._gateway.detach(self._java_obj)\n",
      "AttributeError: 'StringIndexer' object has no attribute '_java_obj'\n"
     ]
    }
   ],
   "source": [
    "iris3.show(150)"
   ]
  },
  {
   "cell_type": "code",
   "execution_count": 17,
   "metadata": {},
   "outputs": [],
   "source": [
    "from pyspark.ml.classification import NaiveBayes"
   ]
  },
  {
   "cell_type": "code",
   "execution_count": 18,
   "metadata": {},
   "outputs": [],
   "source": [
    "training,testing = iris3.randomSplit([0.7,0.3],10)"
   ]
  },
  {
   "cell_type": "code",
   "execution_count": 20,
   "metadata": {},
   "outputs": [
    {
     "data": {
      "text/plain": [
       "98"
      ]
     },
     "execution_count": 20,
     "metadata": {},
     "output_type": "execute_result"
    }
   ],
   "source": [
    "training.count()"
   ]
  },
  {
   "cell_type": "code",
   "execution_count": 21,
   "metadata": {},
   "outputs": [
    {
     "data": {
      "text/plain": [
       "52"
      ]
     },
     "execution_count": 21,
     "metadata": {},
     "output_type": "execute_result"
    }
   ],
   "source": [
    "testing.count()"
   ]
  },
  {
   "cell_type": "code",
   "execution_count": 22,
   "metadata": {},
   "outputs": [
    {
     "name": "stdout",
     "output_type": "stream",
     "text": [
      "+------------+-----------+------------+-----------+---------------+-----------------+-----+\n",
      "|sepal_length|sepal_width|petal_length|petal_width|        species|         features|label|\n",
      "+------------+-----------+------------+-----------+---------------+-----------------+-----+\n",
      "|         4.4|        2.9|         1.4|        0.2|    Iris-setosa|[4.4,2.9,1.4,0.2]|  0.0|\n",
      "|         4.4|        3.0|         1.3|        0.2|    Iris-setosa|[4.4,3.0,1.3,0.2]|  0.0|\n",
      "|         4.6|        3.6|         1.0|        0.2|    Iris-setosa|[4.6,3.6,1.0,0.2]|  0.0|\n",
      "|         4.7|        3.2|         1.3|        0.2|    Iris-setosa|[4.7,3.2,1.3,0.2]|  0.0|\n",
      "|         4.8|        3.1|         1.6|        0.2|    Iris-setosa|[4.8,3.1,1.6,0.2]|  0.0|\n",
      "|         5.0|        2.0|         3.5|        1.0|Iris-versicolor|[5.0,2.0,3.5,1.0]|  1.0|\n",
      "|         5.0|        3.3|         1.4|        0.2|    Iris-setosa|[5.0,3.3,1.4,0.2]|  0.0|\n",
      "|         5.0|        3.4|         1.5|        0.2|    Iris-setosa|[5.0,3.4,1.5,0.2]|  0.0|\n",
      "|         5.0|        3.5|         1.6|        0.6|    Iris-setosa|[5.0,3.5,1.6,0.6]|  0.0|\n",
      "|         5.0|        3.6|         1.4|        0.2|    Iris-setosa|[5.0,3.6,1.4,0.2]|  0.0|\n",
      "|         5.1|        3.4|         1.5|        0.2|    Iris-setosa|[5.1,3.4,1.5,0.2]|  0.0|\n",
      "|         5.1|        3.8|         1.5|        0.3|    Iris-setosa|[5.1,3.8,1.5,0.3]|  0.0|\n",
      "|         5.2|        3.4|         1.4|        0.2|    Iris-setosa|[5.2,3.4,1.4,0.2]|  0.0|\n",
      "|         5.2|        3.5|         1.5|        0.2|    Iris-setosa|[5.2,3.5,1.5,0.2]|  0.0|\n",
      "|         5.4|        3.0|         4.5|        1.5|Iris-versicolor|[5.4,3.0,4.5,1.5]|  1.0|\n",
      "|         5.4|        3.4|         1.5|        0.4|    Iris-setosa|[5.4,3.4,1.5,0.4]|  0.0|\n",
      "|         5.4|        3.4|         1.7|        0.2|    Iris-setosa|[5.4,3.4,1.7,0.2]|  0.0|\n",
      "|         5.4|        3.7|         1.5|        0.2|    Iris-setosa|[5.4,3.7,1.5,0.2]|  0.0|\n",
      "|         5.4|        3.9|         1.7|        0.4|    Iris-setosa|[5.4,3.9,1.7,0.4]|  0.0|\n",
      "|         5.6|        2.5|         3.9|        1.1|Iris-versicolor|[5.6,2.5,3.9,1.1]|  1.0|\n",
      "+------------+-----------+------------+-----------+---------------+-----------------+-----+\n",
      "only showing top 20 rows\n",
      "\n"
     ]
    }
   ],
   "source": [
    "testing.show(20)"
   ]
  },
  {
   "cell_type": "code",
   "execution_count": 24,
   "metadata": {},
   "outputs": [
    {
     "name": "stderr",
     "output_type": "stream",
     "text": [
      "Exception ignored in: <object repr() failed>\n",
      "Traceback (most recent call last):\n",
      "  File \"/Library/Frameworks/Python.framework/Versions/3.6/lib/python3.6/site-packages/pyspark/ml/wrapper.py\", line 105, in __del__\n",
      "    SparkContext._active_spark_context._gateway.detach(self._java_obj)\n",
      "AttributeError: 'StringIndexer' object has no attribute '_java_obj'\n"
     ]
    }
   ],
   "source": [
    "classifier = NaiveBayes(modelType='multinomial')"
   ]
  },
  {
   "cell_type": "code",
   "execution_count": 25,
   "metadata": {},
   "outputs": [],
   "source": [
    "model = classifier.fit(training)"
   ]
  },
  {
   "cell_type": "code",
   "execution_count": 26,
   "metadata": {},
   "outputs": [],
   "source": [
    "prediction = model.transform(testing)"
   ]
  },
  {
   "cell_type": "code",
   "execution_count": 29,
   "metadata": {},
   "outputs": [
    {
     "name": "stdout",
     "output_type": "stream",
     "text": [
      "+---------------+----------+\n",
      "|        species|prediction|\n",
      "+---------------+----------+\n",
      "|    Iris-setosa|       0.0|\n",
      "|    Iris-setosa|       0.0|\n",
      "|    Iris-setosa|       0.0|\n",
      "|    Iris-setosa|       0.0|\n",
      "|    Iris-setosa|       0.0|\n",
      "|Iris-versicolor|       1.0|\n",
      "|    Iris-setosa|       0.0|\n",
      "|    Iris-setosa|       0.0|\n",
      "|    Iris-setosa|       0.0|\n",
      "|    Iris-setosa|       0.0|\n",
      "|    Iris-setosa|       0.0|\n",
      "|    Iris-setosa|       0.0|\n",
      "|    Iris-setosa|       0.0|\n",
      "|    Iris-setosa|       0.0|\n",
      "|Iris-versicolor|       1.0|\n",
      "|    Iris-setosa|       0.0|\n",
      "|    Iris-setosa|       0.0|\n",
      "|    Iris-setosa|       0.0|\n",
      "|    Iris-setosa|       0.0|\n",
      "|Iris-versicolor|       1.0|\n",
      "|Iris-versicolor|       1.0|\n",
      "| Iris-virginica|       1.0|\n",
      "|    Iris-setosa|       0.0|\n",
      "| Iris-virginica|       1.0|\n",
      "| Iris-virginica|       1.0|\n",
      "|    Iris-setosa|       0.0|\n",
      "|Iris-versicolor|       1.0|\n",
      "|Iris-versicolor|       1.0|\n",
      "|Iris-versicolor|       1.0|\n",
      "| Iris-virginica|       1.0|\n",
      "| Iris-virginica|       1.0|\n",
      "|Iris-versicolor|       1.0|\n",
      "| Iris-virginica|       1.0|\n",
      "| Iris-virginica|       1.0|\n",
      "| Iris-virginica|       1.0|\n",
      "| Iris-virginica|       1.0|\n",
      "| Iris-virginica|       1.0|\n",
      "| Iris-virginica|       1.0|\n",
      "|Iris-versicolor|       1.0|\n",
      "| Iris-virginica|       1.0|\n",
      "|Iris-versicolor|       1.0|\n",
      "| Iris-virginica|       1.0|\n",
      "|Iris-versicolor|       1.0|\n",
      "|Iris-versicolor|       1.0|\n",
      "| Iris-virginica|       1.0|\n",
      "| Iris-virginica|       1.0|\n",
      "| Iris-virginica|       1.0|\n",
      "| Iris-virginica|       1.0|\n",
      "| Iris-virginica|       1.0|\n",
      "| Iris-virginica|       1.0|\n",
      "| Iris-virginica|       1.0|\n",
      "| Iris-virginica|       1.0|\n",
      "+---------------+----------+\n",
      "\n"
     ]
    }
   ],
   "source": [
    "prediction.select(['species','prediction']).show(52)"
   ]
  },
  {
   "cell_type": "code",
   "execution_count": 30,
   "metadata": {},
   "outputs": [],
   "source": [
    "from pyspark.ml.evaluation import MulticlassClassificationEvaluator"
   ]
  },
  {
   "cell_type": "code",
   "execution_count": 31,
   "metadata": {},
   "outputs": [],
   "source": [
    "evalautor = MulticlassClassificationEvaluator(labelCol='label',predictionCol='prediction',metricName='accuracy')"
   ]
  },
  {
   "cell_type": "code",
   "execution_count": 32,
   "metadata": {},
   "outputs": [
    {
     "data": {
      "text/plain": [
       "0.5961538461538461"
      ]
     },
     "execution_count": 32,
     "metadata": {},
     "output_type": "execute_result"
    }
   ],
   "source": [
    "evalautor.evaluate(prediction)"
   ]
  },
  {
   "cell_type": "code",
   "execution_count": 35,
   "metadata": {},
   "outputs": [],
   "source": [
    "from pyspark.ml.classification import MultilayerPerceptronClassifier\n",
    "layers =[4,10,10,3]\n",
    "\n",
    "mlp = MultilayerPerceptronClassifier(layers=layers,seed=10)\n",
    "\n",
    "model  = mlp.fit(training)\n",
    "prediction = model.transform(testing)\n",
    "\n",
    "\n"
   ]
  },
  {
   "cell_type": "code",
   "execution_count": 36,
   "metadata": {},
   "outputs": [],
   "source": [
    "evalautor = MulticlassClassificationEvaluator(labelCol='label',predictionCol='prediction',metricName='accuracy')"
   ]
  },
  {
   "cell_type": "code",
   "execution_count": 37,
   "metadata": {},
   "outputs": [
    {
     "data": {
      "text/plain": [
       "1.0"
      ]
     },
     "execution_count": 37,
     "metadata": {},
     "output_type": "execute_result"
    }
   ],
   "source": [
    "evalautor.evaluate(prediction)"
   ]
  },
  {
   "cell_type": "code",
   "execution_count": 38,
   "metadata": {},
   "outputs": [
    {
     "name": "stdout",
     "output_type": "stream",
     "text": [
      "+------------+-----------+------------+-----------+-----------+-----------------+-----+\n",
      "|sepal_length|sepal_width|petal_length|petal_width|    species|         features|label|\n",
      "+------------+-----------+------------+-----------+-----------+-----------------+-----+\n",
      "|         5.1|        3.5|         1.4|        0.2|Iris-setosa|[5.1,3.5,1.4,0.2]|  0.0|\n",
      "|         4.9|        3.0|         1.4|        0.2|Iris-setosa|[4.9,3.0,1.4,0.2]|  0.0|\n",
      "|         4.7|        3.2|         1.3|        0.2|Iris-setosa|[4.7,3.2,1.3,0.2]|  0.0|\n",
      "|         4.6|        3.1|         1.5|        0.2|Iris-setosa|[4.6,3.1,1.5,0.2]|  0.0|\n",
      "|         5.0|        3.6|         1.4|        0.2|Iris-setosa|[5.0,3.6,1.4,0.2]|  0.0|\n",
      "|         5.4|        3.9|         1.7|        0.4|Iris-setosa|[5.4,3.9,1.7,0.4]|  0.0|\n",
      "|         4.6|        3.4|         1.4|        0.3|Iris-setosa|[4.6,3.4,1.4,0.3]|  0.0|\n",
      "|         5.0|        3.4|         1.5|        0.2|Iris-setosa|[5.0,3.4,1.5,0.2]|  0.0|\n",
      "|         4.4|        2.9|         1.4|        0.2|Iris-setosa|[4.4,2.9,1.4,0.2]|  0.0|\n",
      "|         4.9|        3.1|         1.5|        0.1|Iris-setosa|[4.9,3.1,1.5,0.1]|  0.0|\n",
      "|         5.4|        3.7|         1.5|        0.2|Iris-setosa|[5.4,3.7,1.5,0.2]|  0.0|\n",
      "|         4.8|        3.4|         1.6|        0.2|Iris-setosa|[4.8,3.4,1.6,0.2]|  0.0|\n",
      "|         4.8|        3.0|         1.4|        0.1|Iris-setosa|[4.8,3.0,1.4,0.1]|  0.0|\n",
      "|         4.3|        3.0|         1.1|        0.1|Iris-setosa|[4.3,3.0,1.1,0.1]|  0.0|\n",
      "|         5.8|        4.0|         1.2|        0.2|Iris-setosa|[5.8,4.0,1.2,0.2]|  0.0|\n",
      "|         5.7|        4.4|         1.5|        0.4|Iris-setosa|[5.7,4.4,1.5,0.4]|  0.0|\n",
      "|         5.4|        3.9|         1.3|        0.4|Iris-setosa|[5.4,3.9,1.3,0.4]|  0.0|\n",
      "|         5.1|        3.5|         1.4|        0.3|Iris-setosa|[5.1,3.5,1.4,0.3]|  0.0|\n",
      "|         5.7|        3.8|         1.7|        0.3|Iris-setosa|[5.7,3.8,1.7,0.3]|  0.0|\n",
      "|         5.1|        3.8|         1.5|        0.3|Iris-setosa|[5.1,3.8,1.5,0.3]|  0.0|\n",
      "+------------+-----------+------------+-----------+-----------+-----------------+-----+\n",
      "only showing top 20 rows\n",
      "\n"
     ]
    }
   ],
   "source": [
    "iris3.show()"
   ]
  },
  {
   "cell_type": "code",
   "execution_count": null,
   "metadata": {},
   "outputs": [],
   "source": []
  }
 ],
 "metadata": {
  "kernelspec": {
   "display_name": "Python 3",
   "language": "python",
   "name": "python3"
  },
  "language_info": {
   "codemirror_mode": {
    "name": "ipython",
    "version": 3
   },
   "file_extension": ".py",
   "mimetype": "text/x-python",
   "name": "python",
   "nbconvert_exporter": "python",
   "pygments_lexer": "ipython3",
   "version": "3.6.5"
  }
 },
 "nbformat": 4,
 "nbformat_minor": 2
}
