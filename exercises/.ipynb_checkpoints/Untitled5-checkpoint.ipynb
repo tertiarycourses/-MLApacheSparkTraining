{
 "cells": [
  {
   "cell_type": "code",
   "execution_count": 1,
   "metadata": {},
   "outputs": [],
   "source": [
    "# Start a Spark Session\n",
    "from pyspark.sql import SparkSession\n",
    "spark = SparkSession.builder.appName('abc').getOrCreate()"
   ]
  },
  {
   "cell_type": "code",
   "execution_count": 2,
   "metadata": {},
   "outputs": [],
   "source": [
    "from pyspark.ml.feature import VectorAssembler"
   ]
  },
  {
   "cell_type": "code",
   "execution_count": 3,
   "metadata": {},
   "outputs": [],
   "source": [
    "training = spark.read.csv('data/sales_data_training.csv',header=True,inferSchema=True)\n",
    "testing = spark.read.csv('data/sales_data_testing.csv',header=True,inferSchema=True)"
   ]
  },
  {
   "cell_type": "code",
   "execution_count": 4,
   "metadata": {},
   "outputs": [],
   "source": [
    "from pyspark.ml.feature import VectorAssembler\n",
    "assembler  = VectorAssembler(inputCols=[\"critic_rating\",\"is_action\",\"is_exclusive_to_us\",\"is_portable\",\"is_role_playing\",\"is_sequel\",\"is_sports\",\"suitable_for_kids\",\"unit_price\"],outputCol=\"features\")"
   ]
  },
  {
   "cell_type": "code",
   "execution_count": 6,
   "metadata": {},
   "outputs": [],
   "source": [
    "trainingf= v.transform(training)\n",
    "testingf= v.transform(testing)"
   ]
  },
  {
   "cell_type": "code",
   "execution_count": 19,
   "metadata": {},
   "outputs": [],
   "source": [
    "from pyspark.ml.feature import MinMaxScaler\n",
    "scaler = MinMaxScaler(inputCol=\"features\",outputCol=\"sfeatures\")\n",
    "\n",
    "scaler2 = scaler.fit(trainingf)\n",
    "training_scaled = scaler2.transform(trainingf)\n",
    "\n",
    "testing_scaled = scaler2.transform(testingf)"
   ]
  },
  {
   "cell_type": "code",
   "execution_count": 20,
   "metadata": {},
   "outputs": [
    {
     "name": "stdout",
     "output_type": "stream",
     "text": [
      "+-----------------------------------------------------+\n",
      "|sfeatures                                            |\n",
      "+-----------------------------------------------------+\n",
      "|[0.5,1.0,0.0,1.0,0.0,1.0,0.0,0.0,1.0]                |\n",
      "|[0.8333333333333334,0.0,0.0,0.0,0.0,1.0,1.0,0.0,0.5] |\n",
      "|[0.3333333333333333,0.0,0.0,0.0,0.0,1.0,1.0,0.0,0.5] |\n",
      "|[0.8333333333333334,1.0,0.0,0.0,0.0,0.0,0.0,1.0,0.0] |\n",
      "|[0.6666666666666666,1.0,0.0,1.0,0.0,1.0,0.0,1.0,1.0] |\n",
      "|[0.6666666666666666,0.0,0.0,0.0,1.0,1.0,0.0,0.0,0.0] |\n",
      "|[0.0,1.0,0.0,0.0,0.0,1.0,0.0,0.0,0.5]                |\n",
      "|[0.8333333333333334,0.0,0.0,1.0,1.0,1.0,0.0,1.0,1.0] |\n",
      "|[0.5,0.0,0.0,1.0,0.0,0.0,1.0,0.0,0.0]                |\n",
      "|[0.16666666666666666,1.0,0.0,0.0,0.0,1.0,0.0,0.0,1.0]|\n",
      "+-----------------------------------------------------+\n",
      "only showing top 10 rows\n",
      "\n"
     ]
    }
   ],
   "source": [
    "training_scaled.select('sfeatures').show(10,False)"
   ]
  },
  {
   "cell_type": "code",
   "execution_count": 21,
   "metadata": {},
   "outputs": [],
   "source": [
    "from pyspark.ml.regression import LinearRegression"
   ]
  },
  {
   "cell_type": "code",
   "execution_count": 22,
   "metadata": {},
   "outputs": [],
   "source": [
    "lm = LinearRegression(featuresCol='sfeatures',labelCol='total_earnings')"
   ]
  },
  {
   "cell_type": "code",
   "execution_count": 23,
   "metadata": {},
   "outputs": [],
   "source": [
    "model = lm.fit(training_scaled)"
   ]
  },
  {
   "cell_type": "code",
   "execution_count": 24,
   "metadata": {},
   "outputs": [],
   "source": [
    "prediction = model.transform(testing_scaled)"
   ]
  },
  {
   "cell_type": "code",
   "execution_count": 25,
   "metadata": {},
   "outputs": [],
   "source": [
    "from pyspark.ml.evaluation import RegressionEvaluator"
   ]
  },
  {
   "cell_type": "code",
   "execution_count": 26,
   "metadata": {},
   "outputs": [],
   "source": [
    "evaluator = RegressionEvaluator(labelCol='total_earnings',predictionCol='prediction',metricName='rmse')"
   ]
  },
  {
   "cell_type": "code",
   "execution_count": 27,
   "metadata": {},
   "outputs": [
    {
     "data": {
      "text/plain": [
       "10844.198711046025"
      ]
     },
     "execution_count": 27,
     "metadata": {},
     "output_type": "execute_result"
    }
   ],
   "source": [
    "evaluator.evaluate(prediction)"
   ]
  },
  {
   "cell_type": "code",
   "execution_count": null,
   "metadata": {},
   "outputs": [],
   "source": []
  }
 ],
 "metadata": {
  "kernelspec": {
   "display_name": "Python 3",
   "language": "python",
   "name": "python3"
  },
  "language_info": {
   "codemirror_mode": {
    "name": "ipython",
    "version": 3
   },
   "file_extension": ".py",
   "mimetype": "text/x-python",
   "name": "python",
   "nbconvert_exporter": "python",
   "pygments_lexer": "ipython3",
   "version": "3.6.5"
  }
 },
 "nbformat": 4,
 "nbformat_minor": 2
}
